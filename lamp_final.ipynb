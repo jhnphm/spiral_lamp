version https://git-lfs.github.com/spec/v1
oid sha256:0ccfc348b9b80ffd00f774a4c0991133152a9dbda5aad58dc22733645646245a
size 9181491
